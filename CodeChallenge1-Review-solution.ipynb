{
 "cells": [
  {
   "cell_type": "code",
   "execution_count": 2,
   "metadata": {},
   "outputs": [],
   "source": [
    "#Run this Cell with No Changes \n",
    "import numpy as np \n",
    "import pandas as pd \n",
    "import matplotlib.pyplot as plt \n",
    "from numbers import Number\n",
    "import warnings\n",
    "warnings.filterwarnings('ignore')\n"
   ]
  },
  {
   "cell_type": "markdown",
   "metadata": {},
   "source": [
    "## 1) Read the mpg_final CSV File into a Pandas DataFrame Called df \n",
    "\n",
    "Hint:  Make sure the data folder is in the same directory as this notebook and use 'data/mpg_final.csv'"
   ]
  },
  {
   "cell_type": "code",
   "execution_count": 3,
   "metadata": {},
   "outputs": [],
   "source": [
    "#Starter Code \n",
    "\n",
    "df = pd.read_csv('data/mpg_final.csv')\n"
   ]
  },
  {
   "cell_type": "markdown",
   "metadata": {},
   "source": [
    "## 1.1). Drop the missing values from the 'horsepower' column "
   ]
  },
  {
   "cell_type": "code",
   "execution_count": null,
   "metadata": {},
   "outputs": [],
   "source": [
    "##Begin Solution \n",
    "\n",
    "\n",
    "\n",
    "\n",
    "##End Solution "
   ]
  },
  {
   "cell_type": "markdown",
   "metadata": {},
   "source": [
    "## 1.2) Divide the Weight column by 2.205 to turn it into kilograms call this new column 'weight_kg' "
   ]
  },
  {
   "cell_type": "code",
   "execution_count": null,
   "metadata": {},
   "outputs": [],
   "source": [
    "##Begin Solution \n",
    "\n",
    "\n",
    "\n",
    "##End Solution "
   ]
  },
  {
   "cell_type": "markdown",
   "metadata": {},
   "source": [
    "## 1.3) Find the Top 2 Origins with the Most Vehicles "
   ]
  },
  {
   "cell_type": "code",
   "execution_count": null,
   "metadata": {},
   "outputs": [],
   "source": [
    "##Begin Solution \n",
    "\n",
    "\n",
    "\n",
    "##End Solution "
   ]
  },
  {
   "cell_type": "markdown",
   "metadata": {},
   "source": [
    "## Part 2) Data Visualization "
   ]
  },
  {
   "cell_type": "markdown",
   "metadata": {},
   "source": [
    "## 2.1 Using matplotlib create a bar chart of the Top 8 makes with the highest frequency \n",
    "### Note:  Please include a chart title, x-label, and y-label \n"
   ]
  },
  {
   "cell_type": "code",
   "execution_count": null,
   "metadata": {},
   "outputs": [],
   "source": [
    "cars_count_figure, ax = plt.subplots(figsize=(10, 6))\n",
    "\n",
    "##Begin Solution\n",
    "\n",
    "\n",
    "##End Solution \n"
   ]
  },
  {
   "cell_type": "markdown",
   "metadata": {},
   "source": [
    "## 2.2 Create a ScatterPlot of Horsepower to MPG \n",
    "### Note:  Please include a chart title, x-label, y-label "
   ]
  },
  {
   "cell_type": "code",
   "execution_count": null,
   "metadata": {},
   "outputs": [],
   "source": [
    "\n",
    "cars_count_figure, ax = plt.subplots(figsize=(10, 6))\n",
    "\n",
    "##Begin Solution \n",
    "\n",
    "\n",
    "##End Solution \n",
    "\n"
   ]
  },
  {
   "cell_type": "markdown",
   "metadata": {},
   "source": [
    "## 3). Exploring Statistical Data "
   ]
  },
  {
   "cell_type": "markdown",
   "metadata": {},
   "source": [
    "## 3.1) Create one variable called 'mean_acceleration' and another variable called 'median_acceleration' using the acceleration column\n"
   ]
  },
  {
   "cell_type": "code",
   "execution_count": null,
   "metadata": {},
   "outputs": [],
   "source": [
    "## Begin Solution \n",
    "\n",
    "mean_acceleration = None \n",
    "median_acceleration = None \n",
    "\n",
    "## End Solution "
   ]
  },
  {
   "cell_type": "markdown",
   "metadata": {},
   "source": [
    "## 3.2). Create a variable called 'oldest_ford_modelname' and 'oldest_ford_modelyear' that contains the model name and year of the oldest Ford "
   ]
  },
  {
   "cell_type": "code",
   "execution_count": null,
   "metadata": {},
   "outputs": [],
   "source": [
    "##Begin Solution \n",
    "\n",
    "\n",
    "\n",
    "##End Solution "
   ]
  },
  {
   "cell_type": "markdown",
   "metadata": {},
   "source": [
    "## Part 4). Python Data Structures "
   ]
  },
  {
   "cell_type": "code",
   "execution_count": null,
   "metadata": {},
   "outputs": [],
   "source": [
    "##Run this cell without changes \n",
    "\n",
    "mpg_dict = {'chevrolet': {'mpg': 18.0,\n",
    "  'cylinders': 8,\n",
    "  'displacement': 307.0,\n",
    "  'horsepower': 130.0,\n",
    "  'weight': 3504,\n",
    "  'acceleration': 12.0,\n",
    "  'model_year': 70,\n",
    "  'origin': 'usa'},\n",
    " 'buick': {'mpg': 15.0,\n",
    "  'cylinders': 8,\n",
    "  'displacement': 350.0,\n",
    "  'horsepower': 165.0,\n",
    "  'weight': 3693,\n",
    "  'acceleration': 11.5,\n",
    "  'model_year': 70,\n",
    "  'origin': 'europe'},\n",
    " 'plymouth': {'mpg': 18.0,\n",
    "  'cylinders': 8,\n",
    "  'displacement': 318.0,\n",
    "  'horsepower': 150.0,\n",
    "  'weight': 3436,\n",
    "  'acceleration': 11.0,\n",
    "  'model_year': 70,\n",
    "  'origin': 'canada'},\n",
    " 'amc': {'mpg': 16.0,\n",
    "  'cylinders': 8,\n",
    "  'displacement': 304.0,\n",
    "  'horsepower': 150.0,\n",
    "  'weight': 3433,\n",
    "  'acceleration': 12.0,\n",
    "  'model_year': 70,\n",
    "  'origin': 'usa'},\n",
    " 'ford': {'mpg': 17.0,\n",
    "  'cylinders': 8,\n",
    "  'displacement': 302.0,\n",
    "  'horsepower': 140.0,\n",
    "  'weight': 3449,\n",
    "  'acceleration': 10.5,\n",
    "  'model_year': 70,\n",
    "  'origin': 'usa'}}"
   ]
  },
  {
   "cell_type": "markdown",
   "metadata": {},
   "source": [
    "## 4.1). Create a list 'car_brands' of all the makes in the dictionary 'mpg_dict'  "
   ]
  },
  {
   "cell_type": "code",
   "execution_count": null,
   "metadata": {},
   "outputs": [],
   "source": [
    "##Begin Solution \n",
    "\n",
    "\n",
    "\n",
    "##End Solution "
   ]
  },
  {
   "cell_type": "markdown",
   "metadata": {},
   "source": [
    "## 4.2). Create a list of Tuples containing each Car Make's Name and their corresponding Horsepower "
   ]
  },
  {
   "cell_type": "code",
   "execution_count": null,
   "metadata": {},
   "outputs": [],
   "source": [
    "##Begin Solution \n",
    "\n",
    "\n",
    "##End Solution "
   ]
  },
  {
   "cell_type": "markdown",
   "metadata": {},
   "source": [
    "## 4.3)  Define a function 'get_cars_origin' that returns a list of car makes of all car makes of a given origin\n",
    "\n",
    "### Your function should take two arguments:\n",
    "\n",
    "A dictionary of car information ('mpg_dict')\n",
    "A string containing an origin (for which you are trying to find the car makes' origin)"
   ]
  },
  {
   "cell_type": "code",
   "execution_count": null,
   "metadata": {},
   "outputs": [],
   "source": [
    "##Begin Solution \n",
    "\n",
    "\n",
    "def get_cars_origin(mpg_dict, car_origin):\n",
    "    make_list = []\n",
    " \n",
    "\n",
    "    return make_list\n",
    "\n",
    "##End Solution "
   ]
  }
 ],
 "metadata": {
  "kernelspec": {
   "display_name": "Python 3",
   "language": "python",
   "name": "python3"
  },
  "language_info": {
   "codemirror_mode": {
    "name": "ipython",
    "version": 3
   },
   "file_extension": ".py",
   "mimetype": "text/x-python",
   "name": "python",
   "nbconvert_exporter": "python",
   "pygments_lexer": "ipython3",
   "version": "3.8.5"
  },
  "toc": {
   "base_numbering": 1,
   "nav_menu": {},
   "number_sections": true,
   "sideBar": true,
   "skip_h1_title": false,
   "title_cell": "Table of Contents",
   "title_sidebar": "Contents",
   "toc_cell": false,
   "toc_position": {},
   "toc_section_display": true,
   "toc_window_display": false
  }
 },
 "nbformat": 4,
 "nbformat_minor": 5
}
