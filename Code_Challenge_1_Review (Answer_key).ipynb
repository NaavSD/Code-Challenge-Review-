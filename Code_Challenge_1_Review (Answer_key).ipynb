{
 "cells": [
  {
   "cell_type": "code",
   "execution_count": 47,
   "id": "14df293d",
   "metadata": {},
   "outputs": [],
   "source": [
    "#Run this Cell with No Changes \n",
    "import numpy as np \n",
    "import pandas as pd \n",
    "import matplotlib.pyplot as plt \n",
    "from numbers import Number\n",
    "import warnings\n",
    "warnings.filterwarnings('ignore')\n"
   ]
  },
  {
   "cell_type": "markdown",
   "id": "3e9d9247",
   "metadata": {},
   "source": [
    "## 1) Read the mpg_final CSV File into a Pandas DataFrame Called df \n",
    "\n",
    "Hint:  Make sure the Migration file is in the same directory as this notebook and use './mpg_final.csv'"
   ]
  },
  {
   "cell_type": "code",
   "execution_count": 41,
   "id": "e274938c",
   "metadata": {},
   "outputs": [
    {
     "data": {
      "text/html": [
       "<div>\n",
       "<style scoped>\n",
       "    .dataframe tbody tr th:only-of-type {\n",
       "        vertical-align: middle;\n",
       "    }\n",
       "\n",
       "    .dataframe tbody tr th {\n",
       "        vertical-align: top;\n",
       "    }\n",
       "\n",
       "    .dataframe thead th {\n",
       "        text-align: right;\n",
       "    }\n",
       "</style>\n",
       "<table border=\"1\" class=\"dataframe\">\n",
       "  <thead>\n",
       "    <tr style=\"text-align: right;\">\n",
       "      <th></th>\n",
       "      <th>mpg</th>\n",
       "      <th>cylinders</th>\n",
       "      <th>displacement</th>\n",
       "      <th>horsepower</th>\n",
       "      <th>weight</th>\n",
       "      <th>acceleration</th>\n",
       "      <th>model_year</th>\n",
       "      <th>origin</th>\n",
       "      <th>name</th>\n",
       "      <th>make</th>\n",
       "    </tr>\n",
       "  </thead>\n",
       "  <tbody>\n",
       "    <tr>\n",
       "      <th>393</th>\n",
       "      <td>27.0</td>\n",
       "      <td>4</td>\n",
       "      <td>140.0</td>\n",
       "      <td>86.0</td>\n",
       "      <td>2790</td>\n",
       "      <td>15.6</td>\n",
       "      <td>82</td>\n",
       "      <td>usa</td>\n",
       "      <td>ford mustang gl</td>\n",
       "      <td>ford</td>\n",
       "    </tr>\n",
       "    <tr>\n",
       "      <th>394</th>\n",
       "      <td>44.0</td>\n",
       "      <td>4</td>\n",
       "      <td>97.0</td>\n",
       "      <td>52.0</td>\n",
       "      <td>2130</td>\n",
       "      <td>24.6</td>\n",
       "      <td>82</td>\n",
       "      <td>europe</td>\n",
       "      <td>vw pickup</td>\n",
       "      <td>vw</td>\n",
       "    </tr>\n",
       "    <tr>\n",
       "      <th>395</th>\n",
       "      <td>32.0</td>\n",
       "      <td>4</td>\n",
       "      <td>135.0</td>\n",
       "      <td>84.0</td>\n",
       "      <td>2295</td>\n",
       "      <td>11.6</td>\n",
       "      <td>82</td>\n",
       "      <td>usa</td>\n",
       "      <td>dodge rampage</td>\n",
       "      <td>dodge</td>\n",
       "    </tr>\n",
       "    <tr>\n",
       "      <th>396</th>\n",
       "      <td>28.0</td>\n",
       "      <td>4</td>\n",
       "      <td>120.0</td>\n",
       "      <td>79.0</td>\n",
       "      <td>2625</td>\n",
       "      <td>18.6</td>\n",
       "      <td>82</td>\n",
       "      <td>usa</td>\n",
       "      <td>ford ranger</td>\n",
       "      <td>ford</td>\n",
       "    </tr>\n",
       "    <tr>\n",
       "      <th>397</th>\n",
       "      <td>31.0</td>\n",
       "      <td>4</td>\n",
       "      <td>119.0</td>\n",
       "      <td>82.0</td>\n",
       "      <td>2720</td>\n",
       "      <td>19.4</td>\n",
       "      <td>82</td>\n",
       "      <td>usa</td>\n",
       "      <td>chevy s-10</td>\n",
       "      <td>chevy</td>\n",
       "    </tr>\n",
       "  </tbody>\n",
       "</table>\n",
       "</div>"
      ],
      "text/plain": [
       "      mpg  cylinders  displacement  horsepower  weight  acceleration  \\\n",
       "393  27.0          4         140.0        86.0    2790          15.6   \n",
       "394  44.0          4          97.0        52.0    2130          24.6   \n",
       "395  32.0          4         135.0        84.0    2295          11.6   \n",
       "396  28.0          4         120.0        79.0    2625          18.6   \n",
       "397  31.0          4         119.0        82.0    2720          19.4   \n",
       "\n",
       "     model_year  origin             name   make  \n",
       "393          82     usa  ford mustang gl   ford  \n",
       "394          82  europe        vw pickup     vw  \n",
       "395          82     usa    dodge rampage  dodge  \n",
       "396          82     usa      ford ranger   ford  \n",
       "397          82     usa       chevy s-10  chevy  "
      ]
     },
     "execution_count": 41,
     "metadata": {},
     "output_type": "execute_result"
    }
   ],
   "source": [
    "#Starter Code \n",
    "\n",
    "df = pd.read_csv('./mpg_final.csv')\n",
    "\n",
    "df.head()\n",
    "df.tail()\n"
   ]
  },
  {
   "cell_type": "markdown",
   "id": "3b4d1619",
   "metadata": {},
   "source": [
    "## 1.1). Drop the missing values from the 'horsepower' column "
   ]
  },
  {
   "cell_type": "code",
   "execution_count": 42,
   "id": "f5e2b46a",
   "metadata": {},
   "outputs": [
    {
     "data": {
      "text/html": [
       "<div>\n",
       "<style scoped>\n",
       "    .dataframe tbody tr th:only-of-type {\n",
       "        vertical-align: middle;\n",
       "    }\n",
       "\n",
       "    .dataframe tbody tr th {\n",
       "        vertical-align: top;\n",
       "    }\n",
       "\n",
       "    .dataframe thead th {\n",
       "        text-align: right;\n",
       "    }\n",
       "</style>\n",
       "<table border=\"1\" class=\"dataframe\">\n",
       "  <thead>\n",
       "    <tr style=\"text-align: right;\">\n",
       "      <th></th>\n",
       "      <th>mpg</th>\n",
       "      <th>cylinders</th>\n",
       "      <th>displacement</th>\n",
       "      <th>horsepower</th>\n",
       "      <th>weight</th>\n",
       "      <th>acceleration</th>\n",
       "      <th>model_year</th>\n",
       "      <th>origin</th>\n",
       "      <th>name</th>\n",
       "      <th>make</th>\n",
       "    </tr>\n",
       "  </thead>\n",
       "  <tbody>\n",
       "    <tr>\n",
       "      <th>0</th>\n",
       "      <td>18.0</td>\n",
       "      <td>8</td>\n",
       "      <td>307.0</td>\n",
       "      <td>130.0</td>\n",
       "      <td>3504</td>\n",
       "      <td>12.0</td>\n",
       "      <td>70</td>\n",
       "      <td>usa</td>\n",
       "      <td>chevrolet chevelle malibu</td>\n",
       "      <td>chevrolet</td>\n",
       "    </tr>\n",
       "    <tr>\n",
       "      <th>1</th>\n",
       "      <td>15.0</td>\n",
       "      <td>8</td>\n",
       "      <td>350.0</td>\n",
       "      <td>165.0</td>\n",
       "      <td>3693</td>\n",
       "      <td>11.5</td>\n",
       "      <td>70</td>\n",
       "      <td>usa</td>\n",
       "      <td>buick skylark 320</td>\n",
       "      <td>buick</td>\n",
       "    </tr>\n",
       "    <tr>\n",
       "      <th>2</th>\n",
       "      <td>18.0</td>\n",
       "      <td>8</td>\n",
       "      <td>318.0</td>\n",
       "      <td>150.0</td>\n",
       "      <td>3436</td>\n",
       "      <td>11.0</td>\n",
       "      <td>70</td>\n",
       "      <td>usa</td>\n",
       "      <td>plymouth satellite</td>\n",
       "      <td>plymouth</td>\n",
       "    </tr>\n",
       "    <tr>\n",
       "      <th>3</th>\n",
       "      <td>16.0</td>\n",
       "      <td>8</td>\n",
       "      <td>304.0</td>\n",
       "      <td>150.0</td>\n",
       "      <td>3433</td>\n",
       "      <td>12.0</td>\n",
       "      <td>70</td>\n",
       "      <td>usa</td>\n",
       "      <td>amc rebel sst</td>\n",
       "      <td>amc</td>\n",
       "    </tr>\n",
       "    <tr>\n",
       "      <th>4</th>\n",
       "      <td>17.0</td>\n",
       "      <td>8</td>\n",
       "      <td>302.0</td>\n",
       "      <td>140.0</td>\n",
       "      <td>3449</td>\n",
       "      <td>10.5</td>\n",
       "      <td>70</td>\n",
       "      <td>usa</td>\n",
       "      <td>ford torino</td>\n",
       "      <td>ford</td>\n",
       "    </tr>\n",
       "  </tbody>\n",
       "</table>\n",
       "</div>"
      ],
      "text/plain": [
       "    mpg  cylinders  displacement  horsepower  weight  acceleration  \\\n",
       "0  18.0          8         307.0       130.0    3504          12.0   \n",
       "1  15.0          8         350.0       165.0    3693          11.5   \n",
       "2  18.0          8         318.0       150.0    3436          11.0   \n",
       "3  16.0          8         304.0       150.0    3433          12.0   \n",
       "4  17.0          8         302.0       140.0    3449          10.5   \n",
       "\n",
       "   model_year origin                       name       make  \n",
       "0          70    usa  chevrolet chevelle malibu  chevrolet  \n",
       "1          70    usa          buick skylark 320      buick  \n",
       "2          70    usa         plymouth satellite   plymouth  \n",
       "3          70    usa              amc rebel sst        amc  \n",
       "4          70    usa                ford torino       ford  "
      ]
     },
     "execution_count": 42,
     "metadata": {},
     "output_type": "execute_result"
    }
   ],
   "source": [
    "##Begin Solution \n",
    "\n",
    "df.dropna(inplace= True)\n",
    "\n",
    "\n",
    "##End Solution "
   ]
  },
  {
   "cell_type": "markdown",
   "id": "1aabf1c3",
   "metadata": {},
   "source": [
    "## 1.2) Divide the Weight column by 2.205 to turn it into kilograms call this new column 'weight_kg' "
   ]
  },
  {
   "cell_type": "code",
   "execution_count": 43,
   "id": "70cca13f",
   "metadata": {},
   "outputs": [],
   "source": [
    "##Begin Solution \n",
    "\n",
    "df['weight_kg'] = df['weight']/2.205\n",
    "\n",
    "##End Solution "
   ]
  },
  {
   "cell_type": "markdown",
   "id": "1aac6658",
   "metadata": {},
   "source": [
    "## 1.3) Find the Top 2 Origins with the Most Vehicles "
   ]
  },
  {
   "cell_type": "code",
   "execution_count": 44,
   "id": "54ed73a5",
   "metadata": {},
   "outputs": [
    {
     "data": {
      "text/plain": [
       "usa      245\n",
       "japan     79\n",
       "Name: origin, dtype: int64"
      ]
     },
     "execution_count": 44,
     "metadata": {},
     "output_type": "execute_result"
    }
   ],
   "source": [
    "##Begin Solution \n",
    "\n",
    "\n",
    "df['origin'].value_counts()[:2]\n",
    "##End Solution "
   ]
  },
  {
   "cell_type": "markdown",
   "id": "27db2bb5",
   "metadata": {},
   "source": [
    "## Part 2) Data Visualization "
   ]
  },
  {
   "cell_type": "markdown",
   "id": "28ae7dd0",
   "metadata": {},
   "source": [
    "## 2.1 Using matplotlib create a bar chart of the Top 8 makes with the highest frequency \n",
    "### Note:  Please include a chart title, x-label, and y-label \n"
   ]
  },
  {
   "cell_type": "code",
   "execution_count": 48,
   "id": "74218a7f",
   "metadata": {},
   "outputs": [
    {
     "data": {
      "image/png": "[encoded data removed]",
      "text/plain": [
       "<Figure size 720x432 with 1 Axes>"
      ]
     },
     "metadata": {
      "needs_background": "light"
     },
     "output_type": "display_data"
    }
   ],
   "source": [
    "##Begin Solution \n",
    "\n",
    "cars_count_figure, ax = plt.subplots(figsize=(10, 6))\n",
    "ax = df['origin'].value_counts()[:8].plot(kind='bar')\n",
    "\n",
    "#be sure to add labels \n",
    "\n",
    "##End Solution \n"
   ]
  },
  {
   "cell_type": "markdown",
   "id": "9eef6c62",
   "metadata": {},
   "source": [
    "## 2.2 Create a ScatterPlot of Horsepower to MPG \n",
    "### Note:  Please include a chart title, x-label, y-label "
   ]
  },
  {
   "cell_type": "code",
   "execution_count": 49,
   "id": "c6108a6d",
   "metadata": {},
   "outputs": [
    {
     "data": {
      "text/plain": [
       "<matplotlib.collections.PathCollection at 0x7fd5a94f90d0>"
      ]
     },
     "execution_count": 49,
     "metadata": {},
     "output_type": "execute_result"
    },
    {
     "data": {
      "image/png": "[encoded data removed]",
      "text/plain": [
       "<Figure size 720x432 with 1 Axes>"
      ]
     },
     "metadata": {
      "needs_background": "light"
     },
     "output_type": "display_data"
    }
   ],
   "source": [
    "##Begin Solution \n",
    "\n",
    "cars_count_figure, ax = plt.subplots(figsize=(10, 6))\n",
    "ax.scatter(df['horsepower'].values, df['mpg'].values)\n",
    "\n",
    "#be sure to add labels \n",
    "\n",
    "\n",
    "##End Solution \n",
    "\n"
   ]
  },
  {
   "cell_type": "markdown",
   "id": "eb54d0c5",
   "metadata": {},
   "source": [
    "## 3). Exploring Statistical Data "
   ]
  },
  {
   "cell_type": "markdown",
   "id": "6d7f12b2",
   "metadata": {},
   "source": [
    "## 3.1) Create one variable called 'mean_acceleration' and another variable called 'median_acceleration' using the acceleration column\n"
   ]
  },
  {
   "cell_type": "code",
   "execution_count": null,
   "id": "5bc5e6a3",
   "metadata": {},
   "outputs": [],
   "source": [
    "## Begin Solution \n",
    "\n",
    "mean_acceleration = None \n",
    "median_acceleration = None \n",
    "\n",
    "## End Solution "
   ]
  },
  {
   "cell_type": "markdown",
   "id": "5a65bac9",
   "metadata": {},
   "source": [
    "## 3.2). Create a variable called 'oldest_ford_modelname' and 'oldest_ford_modelyear' that contains the model name and year of the oldest Ford "
   ]
  },
  {
   "cell_type": "code",
   "execution_count": 52,
   "id": "01ecd079",
   "metadata": {},
   "outputs": [
    {
     "data": {
      "text/plain": [
       "('ford', 70)"
      ]
     },
     "execution_count": 52,
     "metadata": {},
     "output_type": "execute_result"
    }
   ],
   "source": [
    "##Begin Solution \n",
    "\n",
    "ford = df.loc[df['make'] == 'ford']\n",
    "\n",
    "oldest_ford = ford.loc[ford['model_year'].idxmin(), ['make', 'model_year']]\n",
    "\n",
    "oldest_ford_modelname = oldest_ford[0]\n",
    "oldest_ford_modelyear = oldest_ford[1]\n",
    "\n",
    "oldest_ford_modelname , oldest_ford_modelyear\n",
    "\n",
    "##End Solution "
   ]
  },
  {
   "cell_type": "markdown",
   "id": "0a51e8cd",
   "metadata": {},
   "source": [
    "## Part 4). Python Data Structures "
   ]
  },
  {
   "cell_type": "code",
   "execution_count": 59,
   "id": "e5b10227",
   "metadata": {},
   "outputs": [],
   "source": [
    "##Run this cell without changes \n",
    "\n",
    "mpg_dict = {'chevrolet': {'mpg': 18.0,\n",
    "  'cylinders': 8,\n",
    "  'displacement': 307.0,\n",
    "  'horsepower': 130.0,\n",
    "  'weight': 3504,\n",
    "  'acceleration': 12.0,\n",
    "  'model_year': 70,\n",
    "  'origin': 'usa'},\n",
    " 'buick': {'mpg': 15.0,\n",
    "  'cylinders': 8,\n",
    "  'displacement': 350.0,\n",
    "  'horsepower': 165.0,\n",
    "  'weight': 3693,\n",
    "  'acceleration': 11.5,\n",
    "  'model_year': 70,\n",
    "  'origin': 'europe'},\n",
    " 'plymouth': {'mpg': 18.0,\n",
    "  'cylinders': 8,\n",
    "  'displacement': 318.0,\n",
    "  'horsepower': 150.0,\n",
    "  'weight': 3436,\n",
    "  'acceleration': 11.0,\n",
    "  'model_year': 70,\n",
    "  'origin': 'canada'},\n",
    " 'amc': {'mpg': 16.0,\n",
    "  'cylinders': 8,\n",
    "  'displacement': 304.0,\n",
    "  'horsepower': 150.0,\n",
    "  'weight': 3433,\n",
    "  'acceleration': 12.0,\n",
    "  'model_year': 70,\n",
    "  'origin': 'usa'},\n",
    " 'ford': {'mpg': 17.0,\n",
    "  'cylinders': 8,\n",
    "  'displacement': 302.0,\n",
    "  'horsepower': 140.0,\n",
    "  'weight': 3449,\n",
    "  'acceleration': 10.5,\n",
    "  'model_year': 70,\n",
    "  'origin': 'usa'}}"
   ]
  },
  {
   "cell_type": "markdown",
   "id": "a610e3d3",
   "metadata": {},
   "source": [
    "## 4.1). Create a list 'car_brands' of all the makes in the dictionary 'mpg_dict'  "
   ]
  },
  {
   "cell_type": "code",
   "execution_count": 54,
   "id": "509aaed7",
   "metadata": {},
   "outputs": [
    {
     "data": {
      "text/plain": [
       "['chevrolet', 'buick', 'plymouth', 'amc', 'ford']"
      ]
     },
     "execution_count": 54,
     "metadata": {},
     "output_type": "execute_result"
    }
   ],
   "source": [
    "##Begin Solution \n",
    "\n",
    "car_brands = list(mpg_dict.keys())\n",
    "car_brands\n",
    "\n",
    "##End Solution "
   ]
  },
  {
   "cell_type": "markdown",
   "id": "6ea4a9ce",
   "metadata": {},
   "source": [
    "## 4.2). Create a list of Tuples containing each Car Make's Name and their corresponding Horsepower "
   ]
  },
  {
   "cell_type": "code",
   "execution_count": 55,
   "id": "19bae0d7",
   "metadata": {},
   "outputs": [
    {
     "data": {
      "text/plain": [
       "[('chevrolet', 130.0),\n",
       " ('buick', 165.0),\n",
       " ('plymouth', 150.0),\n",
       " ('amc', 150.0),\n",
       " ('ford', 140.0)]"
      ]
     },
     "execution_count": 55,
     "metadata": {},
     "output_type": "execute_result"
    }
   ],
   "source": [
    "##Begin Solution \n",
    "\n",
    "car_brands_hp = [(make, mpg_dict[make]['horsepower']) for make in mpg_dict]\n",
    "car_brands_hp\n",
    "\n",
    "##End Solution "
   ]
  },
  {
   "cell_type": "markdown",
   "id": "b80f62d2",
   "metadata": {},
   "source": [
    "## 4.3)  Define a function 'get_cars_origin' that returns a list of car makes of all car makes of a given origin\n",
    "\n",
    "### Your function should take two arguments:\n",
    "\n",
    "A dictionary of car information ('mpg_dict')\n",
    "A string containing an origin (for which you are trying to find the car makes' origin)"
   ]
  },
  {
   "cell_type": "code",
   "execution_count": 57,
   "id": "f28a2609",
   "metadata": {},
   "outputs": [],
   "source": [
    "##Begin Solution \n",
    "\n",
    "\n",
    "def get_cars_origin(mpg_dict, car_origin):\n",
    "    make_list = []\n",
    "    for make in mpg_dict:\n",
    "        if car_origin in mpg_dict[make]['origin']:\n",
    "            make_list.append(make)\n",
    "\n",
    "    return make_list\n",
    "\n",
    "##End Solution "
   ]
  },
  {
   "cell_type": "code",
   "execution_count": 60,
   "id": "954b6f75",
   "metadata": {},
   "outputs": [
    {
     "data": {
      "text/plain": [
       "['chevrolet', 'amc', 'ford']"
      ]
     },
     "execution_count": 60,
     "metadata": {},
     "output_type": "execute_result"
    }
   ],
   "source": [
    "get_cars_origin(mpg_dict,'usa')"
   ]
  },
  {
   "cell_type": "code",
   "execution_count": null,
   "id": "df6e648a",
   "metadata": {},
   "outputs": [],
   "source": []
  }
 ],
 "metadata": {
  "kernelspec": {
   "display_name": "Python 3",
   "language": "python",
   "name": "python3"
  },
  "language_info": {
   "codemirror_mode": {
    "name": "ipython",
    "version": 3
   },
   "file_extension": ".py",
   "mimetype": "text/x-python",
   "name": "python",
   "nbconvert_exporter": "python",
   "pygments_lexer": "ipython3",
   "version": "3.8.8"
  }
 },
 "nbformat": 4,
 "nbformat_minor": 5
}
